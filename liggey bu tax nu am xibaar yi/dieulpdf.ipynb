{
  "nbformat": 4,
  "nbformat_minor": 0,
  "metadata": {
    "colab": {
      "name": "dieulpdf.ipynb",
      "provenance": [],
      "collapsed_sections": []
    },
    "kernelspec": {
      "name": "python3",
      "display_name": "Python 3"
    },
    "language_info": {
      "name": "python"
    }
  },
  "cells": [
    {
      "cell_type": "code",
      "source": [
        "!pip install tika"
      ],
      "metadata": {
        "colab": {
          "base_uri": "https://localhost:8080/"
        },
        "id": "PWnXfVyO0lBu",
        "outputId": "e4e0c8c8-4dcd-497c-ab78-bc75a923eef5"
      },
      "execution_count": 1,
      "outputs": [
        {
          "output_type": "stream",
          "name": "stdout",
          "text": [
            "Requirement already satisfied: tika in /usr/local/lib/python3.7/dist-packages (1.24)\n",
            "Requirement already satisfied: setuptools in /usr/local/lib/python3.7/dist-packages (from tika) (57.4.0)\n",
            "Requirement already satisfied: requests in /usr/local/lib/python3.7/dist-packages (from tika) (2.23.0)\n",
            "Requirement already satisfied: urllib3!=1.25.0,!=1.25.1,<1.26,>=1.21.1 in /usr/local/lib/python3.7/dist-packages (from requests->tika) (1.24.3)\n",
            "Requirement already satisfied: idna<3,>=2.5 in /usr/local/lib/python3.7/dist-packages (from requests->tika) (2.10)\n",
            "Requirement already satisfied: certifi>=2017.4.17 in /usr/local/lib/python3.7/dist-packages (from requests->tika) (2021.10.8)\n",
            "Requirement already satisfied: chardet<4,>=3.0.2 in /usr/local/lib/python3.7/dist-packages (from requests->tika) (3.0.4)\n"
          ]
        }
      ]
    },
    {
      "cell_type": "code",
      "source": [
        "import re\n",
        "import time\n",
        "import requests\n",
        "from bs4 import BeautifulSoup\n",
        "import os"
      ],
      "metadata": {
        "id": "XvjpgMFAKP-2"
      },
      "execution_count": 2,
      "outputs": []
    },
    {
      "cell_type": "code",
      "source": [
        "def fetch(url: str):\n",
        "  with requests.Session() as session:\n",
        "    data = session.get(url,\n",
        "              headers={},\n",
        "              params={})\n",
        "\n",
        "  return data.text"
      ],
      "metadata": {
        "id": "9_Uh1cIUKSSB"
      },
      "execution_count": 3,
      "outputs": []
    },
    {
      "cell_type": "code",
      "source": [
        "def get_web_page(url):\n",
        "  data = BeautifulSoup(\n",
        "  fetch(url),\n",
        "  features=\"html.parser\"\n",
        "  )\n",
        "  return data\n",
        "\n",
        "myData = get_web_page(\"https://jangwolof.com/kaggu/\")"
      ],
      "metadata": {
        "id": "MrSmQYZuKUzk"
      },
      "execution_count": 4,
      "outputs": []
    },
    {
      "cell_type": "code",
      "source": [
        "infos = myData.find_all(\"div\", {\"class\": \"td-content-wrapper\"})\n",
        "nafa = {}\n",
        "for info in infos:\n",
        "  name=info.text.strip().replace('\\n', '')\n",
        "  nafa[name] = info.findChildren('a', Recursive=False)[0]['href']"
      ],
      "metadata": {
        "id": "aFoiLpSMKYRg"
      },
      "execution_count": 5,
      "outputs": []
    },
    {
      "cell_type": "code",
      "source": [
        "nafa"
      ],
      "metadata": {
        "colab": {
          "base_uri": "https://localhost:8080/"
        },
        "id": "9BfTPQSPKei0",
        "outputId": "b0e1c17e-9e52-4fed-a269-3c84d89b370c"
      },
      "execution_count": 6,
      "outputs": [
        {
          "output_type": "execute_result",
          "data": {
            "text/plain": [
              "{'Biibal ci Wolof': 'https://jangwolof.com/wp-content/uploads/2020/02/biibal-ci-wlof.pdf',\n",
              " 'Gaa ñu baax ñi': 'https://jangwolof.com/wp-content/uploads/2020/01/Gaa-%C3%B1u-baax-%C3%B1i.pdf',\n",
              " 'Jooyi wolof bu Sëriñ Muusa Ka': 'https://jangwolof.com/wp-content/uploads/2019/12/Jooyi-wolof.pdf',\n",
              " 'Jëwharu nafiis': 'https://jangwolof.com/wp-content/uploads/2020/02/136_jawharuNafiss.pdf',\n",
              " 'Koor ak li ci aju 2': 'https://jangwolof.com/wp-content/uploads/2020/04/KOOR-AK-LI-CI-AJU-WOLOF-AK-XAMLE.pdf',\n",
              " 'Koor ak lici aju 1': 'https://jangwolof.com/wp-content/uploads/2020/04/koor_wax_.pdf',\n",
              " 'Làmmiñu réew mi ak gëstu': 'https://jangwolof.com/wp-content/uploads/2020/01/L%C3%80MMI%C3%91U-R%C3%89EW-MI-AK-G%C3%8BSTU.pdf',\n",
              " 'Léebu': 'https://jangwolof.com/wp-content/uploads/2020/01/L%C3%A9ebu.pdf',\n",
              " 'Ma yee fi gaa bu Sëriñ Muusa Ka': 'https://jangwolof.com/wp-content/uploads/2019/12/Ma-yee-fi-gaa.pdf',\n",
              " 'Matnul Arbahiin Wolof': 'https://jangwolof.com/wp-content/uploads/2019/12/Matnul-Arbahiin-Wolof.pdf',\n",
              " 'Ndoomus buur bi': 'https://jangwolof.com/wp-content/uploads/2020/02/Ndoomus-buur-bi.pdf',\n",
              " 'Nettalib Yeesu ak leeral': 'https://jangwolof.com/wp-content/uploads/2020/01/NettalibYeesuAkLeeral.pdf',\n",
              " 'Nosey Ahmadu Baas (xaaj1)': 'https://jangwolof.com/wp-content/uploads/2020/01/Nosey-Ahmadu-Baas-xaaj1.pdf',\n",
              " 'Nosey Daam Jaane 1': 'https://jangwolof.com/wp-content/uploads/2020/01/Nosey-Daam-Jaane-1.pdf',\n",
              " 'Péncum ndawi réew mi': 'https://jangwolof.com/wp-content/uploads/2020/02/P%C3%A9ncum-ndawi-r%C3%A9ew-mi.pdf',\n",
              " 'Sa cosaan': 'https://jangwolof.com/wp-content/uploads/2020/01/WolofCOSAAN.pdf',\n",
              " 'Seex Ahmadu Bamba Xaadimu Rasuul Jaar-jaar ak jàngale': 'https://jangwolof.com/wp-content/uploads/2020/02/seex-ahmadu-bamba-xaadimu-rasuul-jaar-jaar-ak-jangale.pdf',\n",
              " 'Siyaare Sëriñ Tuubaa': 'https://jangwolof.com/wp-content/uploads/2020/01/Siyaare-S%C3%ABri%C3%B1-Tuubaa.pdf',\n",
              " 'Sungeen déglu woon bu Sëriñ Muusa Ka': 'https://jangwolof.com/wp-content/uploads/2019/12/Sungeen-d%C3%A9glu-woon.pdf',\n",
              " 'Taxmiis bu Sëriñ Muusa Ka': 'https://jangwolof.com/wp-content/uploads/2019/12/Taxmiis.pdf',\n",
              " 'Tàggatu ci dawal 1/2': 'https://jangwolof.com/wp-content/uploads/2020/02/T%C3%A0ggatu-ci-dawal-1-2.pdf',\n",
              " 'Téere Wolof CI': 'https://jangwolof.com/wp-content/uploads/2020/01/T%C3%A9ere-Wolof-CI.pdf',\n",
              " 'Téere Wolof CP': 'https://jangwolof.com/wp-content/uploads/2020/01/T%C3%A9ere-kalass-CP.pdf',\n",
              " 'Téere jàngal sa diine ci Wolof': 'https://jangwolof.com/wp-content/uploads/2020/02/teere-jangal-sa-diine-ci-wolof-allaaji-jibi-sey.pdf',\n",
              " 'Téere kalaas CI': 'https://jangwolof.com/wp-content/uploads/2020/02/T%C3%A9ere-kalaas-CI.pdf',\n",
              " 'Téere yaramu nit': 'https://jangwolof.com/wp-content/uploads/2020/07/T%C3%A9ere-yaramu-nit.pdf',\n",
              " 'Téereb Ayyóoba': 'https://jangwolof.com/wp-content/uploads/2020/01/T%C3%A9ereb-Ayy%C3%B3oba.pdf',\n",
              " 'Téereb nettali CE1': 'https://jangwolof.com/wp-content/uploads/2020/02/T%C3%A9ereb-nettali-CE1.pdf',\n",
              " 'UNESCO , ginnaaw 2eelu xareb àdduna': 'https://jangwolof.com/wp-content/uploads/2020/02/UNESCO-ginnaaw-2eelu-xareb-%C3%A0dduna.pdf',\n",
              " 'Xarnu bi bu Sëriñ Muusa Ka': 'https://jangwolof.com/wp-content/uploads/2019/12/Xarnu-bi.pdf',\n",
              " 'Yaasin bu Sëriñ Muusa Ka': 'https://jangwolof.com/wp-content/uploads/2019/12/Yaasin.pdf',\n",
              " 'Àq ak yelleefi doomi aadama': 'https://jangwolof.com/wp-content/uploads/2020/02/%C3%80q-ak-yelleefi-doomi-aadama.pdf'}"
            ]
          },
          "metadata": {},
          "execution_count": 6
        }
      ]
    },
    {
      "cell_type": "code",
      "source": [
        "from tika import parser \n",
        "\n",
        "for i, j in zip(nafa.keys(), nafa.values()):\n",
        "\n",
        "  raw = parser.from_file(j)\n",
        "  #print(raw['content'])\n",
        "  txtfile = raw['content']\n",
        "\n",
        "  with open(f\"/content/livres/{i.strip().replace('/', '')}.txt\", \"w\") as text_file:\n",
        "          text_file.write(txtfile)\n"
      ],
      "metadata": {
        "colab": {
          "base_uri": "https://localhost:8080/"
        },
        "id": "BWsiHuCByfNs",
        "outputId": "a1093676-1efc-4295-d02f-b66d2aeaadc5"
      },
      "execution_count": 7,
      "outputs": [
        {
          "output_type": "stream",
          "name": "stderr",
          "text": [
            "2022-05-06 12:06:05,223 [MainThread  ] [INFO ]  Retrieving https://jangwolof.com/wp-content/uploads/2020/01/NettalibYeesuAkLeeral.pdf to /tmp/wp-content-uploads-2020-01-nettalibyeesuakleeral.pdf.\n",
            "2022-05-06 12:06:08,684 [MainThread  ] [INFO ]  Retrieving https://jangwolof.com/wp-content/uploads/2020/01/T%C3%A9ereb-Ayy%C3%B3oba.pdf to /tmp/wp-content-uploads-2020-01-t-c3-a9ereb-ayy-c3-b3oba.pdf.\n",
            "2022-05-06 12:06:09,665 [MainThread  ] [INFO ]  Retrieving https://jangwolof.com/wp-content/uploads/2019/12/Matnul-Arbahiin-Wolof.pdf to /tmp/wp-content-uploads-2019-12-matnul-arbahiin-wolof.pdf.\n",
            "2022-05-06 12:06:10,209 [MainThread  ] [INFO ]  Retrieving https://jangwolof.com/wp-content/uploads/2019/12/Jooyi-wolof.pdf to /tmp/wp-content-uploads-2019-12-jooyi-wolof.pdf.\n",
            "2022-05-06 12:06:11,041 [MainThread  ] [INFO ]  Retrieving https://jangwolof.com/wp-content/uploads/2019/12/Ma-yee-fi-gaa.pdf to /tmp/wp-content-uploads-2019-12-ma-yee-fi-gaa.pdf.\n",
            "2022-05-06 12:06:11,252 [MainThread  ] [INFO ]  Retrieving https://jangwolof.com/wp-content/uploads/2019/12/Sungeen-d%C3%A9glu-woon.pdf to /tmp/wp-content-uploads-2019-12-sungeen-d-c3-a9glu-woon.pdf.\n",
            "2022-05-06 12:06:11,491 [MainThread  ] [INFO ]  Retrieving https://jangwolof.com/wp-content/uploads/2019/12/Yaasin.pdf to /tmp/wp-content-uploads-2019-12-yaasin.pdf.\n",
            "2022-05-06 12:06:12,369 [MainThread  ] [INFO ]  Retrieving https://jangwolof.com/wp-content/uploads/2019/12/Xarnu-bi.pdf to /tmp/wp-content-uploads-2019-12-xarnu-bi.pdf.\n",
            "2022-05-06 12:06:13,149 [MainThread  ] [INFO ]  Retrieving https://jangwolof.com/wp-content/uploads/2019/12/Taxmiis.pdf to /tmp/wp-content-uploads-2019-12-taxmiis.pdf.\n",
            "2022-05-06 12:06:13,664 [MainThread  ] [INFO ]  Retrieving https://jangwolof.com/wp-content/uploads/2020/01/WolofCOSAAN.pdf to /tmp/wp-content-uploads-2020-01-wolofcosaan.pdf.\n",
            "2022-05-06 12:06:14,768 [MainThread  ] [INFO ]  Retrieving https://jangwolof.com/wp-content/uploads/2020/01/L%C3%80MMI%C3%91U-R%C3%89EW-MI-AK-G%C3%8BSTU.pdf to /tmp/wp-content-uploads-2020-01-l-c3-80mmi-c3-91u-r-c3-89ew-mi-ak-g-c3-8bstu.pdf.\n",
            "2022-05-06 12:06:15,300 [MainThread  ] [INFO ]  Retrieving https://jangwolof.com/wp-content/uploads/2020/01/L%C3%A9ebu.pdf to /tmp/wp-content-uploads-2020-01-l-c3-a9ebu.pdf.\n",
            "2022-05-06 12:06:15,748 [MainThread  ] [INFO ]  Retrieving https://jangwolof.com/wp-content/uploads/2020/01/Siyaare-S%C3%ABri%C3%B1-Tuubaa.pdf to /tmp/wp-content-uploads-2020-01-siyaare-s-c3-abri-c3-b1-tuubaa.pdf.\n",
            "2022-05-06 12:06:16,288 [MainThread  ] [INFO ]  Retrieving https://jangwolof.com/wp-content/uploads/2020/01/Nosey-Ahmadu-Baas-xaaj1.pdf to /tmp/wp-content-uploads-2020-01-nosey-ahmadu-baas-xaaj1.pdf.\n",
            "2022-05-06 12:06:16,917 [MainThread  ] [INFO ]  Retrieving https://jangwolof.com/wp-content/uploads/2020/01/Nosey-Daam-Jaane-1.pdf to /tmp/wp-content-uploads-2020-01-nosey-daam-jaane-1.pdf.\n",
            "2022-05-06 12:06:17,440 [MainThread  ] [INFO ]  Retrieving https://jangwolof.com/wp-content/uploads/2020/01/T%C3%A9ere-kalass-CP.pdf to /tmp/wp-content-uploads-2020-01-t-c3-a9ere-kalass-cp.pdf.\n",
            "2022-05-06 12:06:20,429 [MainThread  ] [INFO ]  Retrieving https://jangwolof.com/wp-content/uploads/2020/01/T%C3%A9ere-Wolof-CI.pdf to /tmp/wp-content-uploads-2020-01-t-c3-a9ere-wolof-ci.pdf.\n",
            "2022-05-06 12:06:21,910 [MainThread  ] [INFO ]  Retrieving https://jangwolof.com/wp-content/uploads/2020/01/Gaa-%C3%B1u-baax-%C3%B1i.pdf to /tmp/wp-content-uploads-2020-01-gaa-c3-b1u-baax-c3-b1i.pdf.\n",
            "2022-05-06 12:06:22,128 [MainThread  ] [INFO ]  Retrieving https://jangwolof.com/wp-content/uploads/2020/02/T%C3%A0ggatu-ci-dawal-1-2.pdf to /tmp/wp-content-uploads-2020-02-t-c3-a0ggatu-ci-dawal-1-2.pdf.\n",
            "2022-05-06 12:06:23,336 [MainThread  ] [INFO ]  Retrieving https://jangwolof.com/wp-content/uploads/2020/02/biibal-ci-wlof.pdf to /tmp/wp-content-uploads-2020-02-biibal-ci-wlof.pdf.\n",
            "2022-05-06 12:06:25,014 [MainThread  ] [INFO ]  Retrieving https://jangwolof.com/wp-content/uploads/2020/02/Ndoomus-buur-bi.pdf to /tmp/wp-content-uploads-2020-02-ndoomus-buur-bi.pdf.\n",
            "2022-05-06 12:06:25,476 [MainThread  ] [INFO ]  Retrieving https://jangwolof.com/wp-content/uploads/2020/02/P%C3%A9ncum-ndawi-r%C3%A9ew-mi.pdf to /tmp/wp-content-uploads-2020-02-p-c3-a9ncum-ndawi-r-c3-a9ew-mi.pdf.\n",
            "2022-05-06 12:06:25,882 [MainThread  ] [INFO ]  Retrieving https://jangwolof.com/wp-content/uploads/2020/02/T%C3%A9ere-kalaas-CI.pdf to /tmp/wp-content-uploads-2020-02-t-c3-a9ere-kalaas-ci.pdf.\n",
            "2022-05-06 12:06:29,710 [MainThread  ] [INFO ]  Retrieving https://jangwolof.com/wp-content/uploads/2020/02/T%C3%A9ereb-nettali-CE1.pdf to /tmp/wp-content-uploads-2020-02-t-c3-a9ereb-nettali-ce1.pdf.\n",
            "2022-05-06 12:06:31,029 [MainThread  ] [INFO ]  Retrieving https://jangwolof.com/wp-content/uploads/2020/02/UNESCO-ginnaaw-2eelu-xareb-%C3%A0dduna.pdf to /tmp/wp-content-uploads-2020-02-unesco-ginnaaw-2eelu-xareb-c3-a0dduna.pdf.\n",
            "2022-05-06 12:06:31,376 [MainThread  ] [INFO ]  Retrieving https://jangwolof.com/wp-content/uploads/2020/02/%C3%80q-ak-yelleefi-doomi-aadama.pdf to /tmp/wp-content-uploads-2020-02-c3-80q-ak-yelleefi-doomi-aadama.pdf.\n",
            "2022-05-06 12:06:31,923 [MainThread  ] [INFO ]  Retrieving https://jangwolof.com/wp-content/uploads/2020/02/seex-ahmadu-bamba-xaadimu-rasuul-jaar-jaar-ak-jangale.pdf to /tmp/wp-content-uploads-2020-02-seex-ahmadu-bamba-xaadimu-rasuul-jaar-jaar-ak-jangale.pdf.\n",
            "2022-05-06 12:06:32,649 [MainThread  ] [INFO ]  Retrieving https://jangwolof.com/wp-content/uploads/2020/02/teere-jangal-sa-diine-ci-wolof-allaaji-jibi-sey.pdf to /tmp/wp-content-uploads-2020-02-teere-jangal-sa-diine-ci-wolof-allaaji-jibi-sey.pdf.\n",
            "2022-05-06 12:06:33,862 [MainThread  ] [INFO ]  Retrieving https://jangwolof.com/wp-content/uploads/2020/02/136_jawharuNafiss.pdf to /tmp/wp-content-uploads-2020-02-136_jawharunafiss.pdf.\n",
            "2022-05-06 12:06:37,157 [MainThread  ] [INFO ]  Retrieving https://jangwolof.com/wp-content/uploads/2020/04/koor_wax_.pdf to /tmp/wp-content-uploads-2020-04-koor_wax_.pdf.\n",
            "2022-05-06 12:06:38,430 [MainThread  ] [INFO ]  Retrieving https://jangwolof.com/wp-content/uploads/2020/04/KOOR-AK-LI-CI-AJU-WOLOF-AK-XAMLE.pdf to /tmp/wp-content-uploads-2020-04-koor-ak-li-ci-aju-wolof-ak-xamle.pdf.\n",
            "2022-05-06 12:06:38,870 [MainThread  ] [INFO ]  Retrieving https://jangwolof.com/wp-content/uploads/2020/07/T%C3%A9ere-yaramu-nit.pdf to /tmp/wp-content-uploads-2020-07-t-c3-a9ere-yaramu-nit.pdf.\n"
          ]
        }
      ]
    },
    {
      "cell_type": "code",
      "source": [
        "!zip -r /content/teere.zip /content/livres"
      ],
      "metadata": {
        "colab": {
          "base_uri": "https://localhost:8080/"
        },
        "id": "kl-MP-JWOB9q",
        "outputId": "c5f70714-d269-404e-d10c-78556e19b9ed"
      },
      "execution_count": 8,
      "outputs": [
        {
          "output_type": "stream",
          "name": "stdout",
          "text": [
            "updating: content/livres/ (stored 0%)\n",
            "updating: content/livres/Ndoomus buur bi.txt (deflated 62%)\n",
            "updating: content/livres/Ma yee fi gaa bu Sëriñ Muusa Ka.txt (deflated 52%)\n",
            "updating: content/livres/Jooyi wolof bu Sëriñ Muusa Ka.txt (deflated 68%)\n",
            "updating: content/livres/Sa cosaan.txt (deflated 60%)\n",
            "updating: content/livres/Taxmiis bu Sëriñ Muusa Ka.txt (deflated 54%)\n",
            "updating: content/livres/Téere jàngal sa diine ci Wolof.txt (deflated 68%)\n",
            "updating: content/livres/Gaa ñu baax ñi.txt (deflated 55%)\n",
            "updating: content/livres/Seex Ahmadu Bamba Xaadimu Rasuul Jaar-jaar ak jàngale.txt (deflated 65%)\n",
            "updating: content/livres/Téere yaramu nit.txt (deflated 97%)\n",
            "updating: content/livres/Nosey Daam Jaane 1.txt (deflated 54%)\n",
            "updating: content/livres/Yaasin bu Sëriñ Muusa Ka.txt (deflated 61%)\n",
            "updating: content/livres/Téere kalaas CI.txt (deflated 60%)\n",
            "updating: content/livres/Nettalib Yeesu ak leeral.txt (deflated 64%)\n",
            "updating: content/livres/Jëwharu nafiis.txt (deflated 67%)\n",
            "updating: content/livres/Léebu.txt (deflated 61%)\n",
            "updating: content/livres/Xarnu bi bu Sëriñ Muusa Ka.txt (deflated 63%)\n",
            "updating: content/livres/UNESCO , ginnaaw 2eelu xareb àdduna.txt (deflated 69%)\n",
            "updating: content/livres/Sungeen déglu woon bu Sëriñ Muusa Ka.txt (deflated 57%)\n",
            "updating: content/livres/Biibal ci Wolof.txt (deflated 67%)\n",
            "updating: content/livres/Koor ak lici aju 1.txt (deflated 62%)\n",
            "updating: content/livres/Matnul Arbahiin Wolof.txt (deflated 66%)\n",
            "updating: content/livres/Téereb nettali CE1.txt (deflated 74%)\n",
            "updating: content/livres/Téere Wolof CI.txt (deflated 97%)\n",
            "updating: content/livres/Làmmiñu réew mi ak gëstu.txt (deflated 65%)\n",
            "updating: content/livres/Téereb Ayyóoba.txt (deflated 59%)\n",
            "updating: content/livres/Nosey Ahmadu Baas (xaaj1).txt (deflated 57%)\n",
            "updating: content/livres/Tàggatu ci dawal 12.txt (deflated 53%)\n",
            "updating: content/livres/Siyaare Sëriñ Tuubaa.txt (deflated 55%)\n",
            "updating: content/livres/Téere Wolof CP.txt (deflated 71%)\n",
            "updating: content/livres/Koor ak li ci aju 2.txt (deflated 66%)\n",
            "updating: content/livres/Àq ak yelleefi doomi aadama.txt (deflated 65%)\n",
            "updating: content/livres/Péncum ndawi réew mi.txt (deflated 63%)\n"
          ]
        }
      ]
    }
  ]
}