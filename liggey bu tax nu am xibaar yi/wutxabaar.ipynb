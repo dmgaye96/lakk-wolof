{
  "nbformat": 4,
  "nbformat_minor": 0,
  "metadata": {
    "colab": {
      "name": "wutxabaar.ipynb",
      "provenance": [],
      "collapsed_sections": []
    },
    "kernelspec": {
      "name": "python3",
      "display_name": "Python 3"
    },
    "language_info": {
      "name": "python"
    }
  },
  "cells": [
    {
      "cell_type": "code",
      "execution_count": 108,
      "metadata": {
        "id": "yGaZRCGZWJdW"
      },
      "outputs": [],
      "source": [
        "import re\n",
        "import time\n",
        "import requests\n",
        "from bs4 import BeautifulSoup\n",
        "import os"
      ]
    },
    {
      "cell_type": "code",
      "source": [
        "def fetch(url: str):\n",
        "  with requests.Session() as session:\n",
        "    data = session.get(url,\n",
        "              headers={},\n",
        "              params={})\n",
        "\n",
        "  return data.text"
      ],
      "metadata": {
        "id": "tURBUpxaWjlr"
      },
      "execution_count": 109,
      "outputs": []
    },
    {
      "cell_type": "code",
      "source": [
        "def get_web_page(url):\n",
        "  data = BeautifulSoup(\n",
        "  fetch(url),\n",
        "  features=\"html.parser\"\n",
        "  )\n",
        "  return data\n",
        "\n",
        "myData = get_web_page(\"https://jangwolof.com/kaggu/\")"
      ],
      "metadata": {
        "id": "WSPGRma7Wmgs"
      },
      "execution_count": 110,
      "outputs": []
    },
    {
      "cell_type": "code",
      "source": [
        "infos = myData.find_all(\"div\", {\"class\": \"elementor-testimonial-details\"})\n",
        "nafa = {}\n",
        "for info in infos:\n",
        "  name=info.text.strip().replace('\\n', '')\n",
        "  nafa[name] = info.findChildren('a', Recursive=False)[0]['href']"
      ],
      "metadata": {
        "id": "nSig3gbCYMSx"
      },
      "execution_count": 114,
      "outputs": []
    },
    {
      "cell_type": "code",
      "source": [
        "nafa"
      ],
      "metadata": {
        "colab": {
          "base_uri": "https://localhost:8080/"
        },
        "id": "r24OwAEJRStt",
        "outputId": "fe12c787-78dd-4e45-caa6-ae14625066de"
      },
      "execution_count": 115,
      "outputs": [
        {
          "output_type": "execute_result",
          "data": {
            "text/plain": [
              "{'Al-Haaji Muhammet Basiir Sekk': 'https://jangwolof.com/category/al-haaji-muhammet-basiir-sekk/',\n",
              " 'Coon Sekk': 'https://jangwolof.com/category/coon-sekk/',\n",
              " 'Kumba Gawlo': 'https://jangwolof.com/kumba-gawlo/',\n",
              " 'Njaga Mbay': 'https://jangwolof.com/njaga-mbay/',\n",
              " 'Seex Ibra Faal': 'https://jangwolof.com/ibra-faal%20',\n",
              " 'Sëñ Abdu Lahat Ka': 'https://jangwolof.com/category/lahat-ka/',\n",
              " 'Sëñ Ahmadu Baas': 'https://jangwolof.com/ahmadu-baas/',\n",
              " 'Sëñ Daam  Jaane': 'https://jangwolof.com/daam-jaane/',\n",
              " 'Sëñ FàlluMbàkke': 'https://jangwolof.com/fallu-mbakke/',\n",
              " 'Sëñ HaadiTure': 'https://jangwolof.com/haadi-ture/',\n",
              " 'Sëñ Maalig Baasin  Si': 'https://jangwolof.com/2019/12/13/waxi-serin-maalig-baasin-si/',\n",
              " 'Sëñ MaamMoor Mbàkke': 'https://jangwolof.com/moor-mbakke/',\n",
              " 'Sëñ Mbay Jaxate': 'https://jangwolof.com/mbay-jaxate',\n",
              " 'Sëñ Moor Kayre': 'https://jangwolof.com/moor-kayre/',\n",
              " 'Sëñ Musaa Ka': 'https://jangwolof.com/musaa-ka/',\n",
              " 'Sëñ Móodu  Njaay Rasiit': 'https://jangwolof.com/njaay-rasiit',\n",
              " 'Sëñ Sàmba   Jaara Mbay': 'https://jangwolof.com/jaara-mbay/',\n",
              " 'Sëñ Tuubaa': 'https://jangwolof.com/tuubaa',\n",
              " 'Wayi cosaan': 'https://jangwolof.com/wayi-cosaan/',\n",
              " 'Yuusu Nduur': 'https://jangwolof.com/yuusu-nduur/'}"
            ]
          },
          "metadata": {},
          "execution_count": 115
        }
      ]
    },
    {
      "cell_type": "code",
      "source": [
        "xabaar_yeup = {}\n",
        "yer_yeup = []\n",
        "for i, j in zip(nafa.keys(), nafa.values()):\n",
        "  myData = get_web_page(j)\n",
        "  tur  = myData.find_all(\"h2\", {\"class\": \"eael-entry-title\"})\n",
        "  link = myData.find_all(\"a\", {\"class\": \"eael-post-elements-readmore-btn\"})\n",
        "  bennal = {}\n",
        "  for t,l in zip(tur, link):    \n",
        "    #print(t.text, l['href'])\n",
        "    bennal[t.text] = l['href']\n",
        "    yer_yeup.append(l['href'])\n",
        "  xabaar_yeup[i] = bennal"
      ],
      "metadata": {
        "id": "DenWMBP3hbQR"
      },
      "execution_count": 116,
      "outputs": []
    },
    {
      "cell_type": "code",
      "source": [
        "xabaar_yeup"
      ],
      "metadata": {
        "colab": {
          "base_uri": "https://localhost:8080/"
        },
        "id": "37_odNs7iUzX",
        "outputId": "f5a46824-79f8-4ba9-ead9-e92d58753118"
      },
      "execution_count": 117,
      "outputs": [
        {
          "output_type": "execute_result",
          "data": {
            "text/plain": [
              "{'Al-Haaji Muhammet Basiir Sekk': {},\n",
              " 'Coon Sekk': {},\n",
              " 'Kumba Gawlo': {'Deppaas bu doy': 'https://jangwolof.com/2020/01/01/deppaas-bu-doy/'},\n",
              " 'Njaga Mbay': {'Saxaar gi': 'https://jangwolof.com/2020/01/01/saxaar-gi/'},\n",
              " 'Seex Ibra Faal': {'Seex Ibra Faal (Xaaj 1)': 'https://jangwolof.com/2019/12/28/xaaj-1-4/'},\n",
              " 'Sëñ Abdu Lahat Ka': {},\n",
              " 'Sëñ Ahmadu Baas': {'Afrig': 'https://jangwolof.com/2019/12/25/afrig/',\n",
              "  'Dof yi': 'https://jangwolof.com/2020/01/03/dof-yi/',\n",
              "  'Sutura yitteel na ku ne': 'https://jangwolof.com/2019/12/29/sutura-yitteel-na-ku-ne/',\n",
              "  'Yewwuleen': 'https://jangwolof.com/2019/12/28/yewwuleen/',\n",
              "  'Ñalgul dañal': 'https://jangwolof.com/2019/12/28/nalgul-danal/'},\n",
              " 'Sëñ Daam  Jaane': {'Guddi': 'https://jangwolof.com/2019/12/28/guddi/',\n",
              "  'Jamonoy Asan Paate': 'https://jangwolof.com/2019/12/28/jamonoy-asan-paate/',\n",
              "  'Jooyi garab': 'https://jangwolof.com/2020/02/18/jooyi-garab/',\n",
              "  'Maarsiya Seex Abdu Asiis Dabbaax': 'https://jangwolof.com/2020/01/03/maarsiya-seex-abdu-asiis-dabbaax/',\n",
              "  'Njukkal Sñ Xaadim Géy': 'https://jangwolof.com/2019/12/29/njukkal-sn-xaadim-gey/',\n",
              "  'Sant Yàlla': 'https://jangwolof.com/2019/12/16/sant-yalla/',\n",
              "  'Sñ Xaadim Géy': 'https://jangwolof.com/2019/12/29/sn-xaadim-gey/',\n",
              "  'Tagg Bàmba': 'https://jangwolof.com/2020/01/02/tagg-bamba/',\n",
              "  'Tagg Sëriñ bi': 'https://jangwolof.com/2019/12/29/tagg-serin-bi/'},\n",
              " 'Sëñ FàlluMbàkke': {'Sëñ Fàllu Mbàkke (Xaaj 1)': 'https://jangwolof.com/2019/12/25/xaaj-1-2/'},\n",
              " 'Sëñ HaadiTure': {'Pitax mu ndaw': 'https://jangwolof.com/2020/01/30/pitax-mu-ndaw/',\n",
              "  'Sñ Abdu Asiis': 'https://jangwolof.com/2020/02/01/sn-abdu-asiis/'},\n",
              " 'Sëñ Maalig Baasin  Si': {},\n",
              " 'Sëñ MaamMoor Mbàkke': {'Loyu F, X,R, S, T, mottali gi': 'https://jangwolof.com/2020/01/06/loyu-f-xr-s-mottali/',\n",
              "  'Loyu W, Y, K, L, M, N': 'https://jangwolof.com/2020/01/02/loyu-w-y-k-l-m-n/',\n",
              "  'Waati Wolof (a, b, j, d)': 'https://jangwolof.com/2019/12/31/waati-wolof-a-b-j-d/'},\n",
              " 'Sëñ Mbay Jaxate': {'Sëñ Mbay Jaxate (Xaaj 1)': 'https://jangwolof.com/2019/12/23/xaaj-1-3/',\n",
              "  'Sëñ Mbay Jaxate (Xaaj 2)': 'https://jangwolof.com/2019/12/25/xaaj-2/'},\n",
              " 'Sëñ Moor Kayre': {'Saytaane, bànneex…': 'https://jangwolof.com/2019/12/14/saytaane-banneex/',\n",
              "  'Sëñ Moor Kayre (Xaaj 1)': 'https://jangwolof.com/2019/12/18/xaaj-1/'},\n",
              " 'Sëñ Musaa Ka': {'Boroomam': 'https://jangwolof.com/2020/01/06/boroomam/',\n",
              "  'Ful': 'https://jangwolof.com/2019/12/16/ful/',\n",
              "  'Jooyi Wolof': 'https://jangwolof.com/2019/12/06/jooyi-wolof/',\n",
              "  'Jooyi xol': 'https://jangwolof.com/2019/12/16/jooyi-xol/',\n",
              "  'Ma yee fi gaa…': 'https://jangwolof.com/2019/12/16/ma-yee-fi-gaa/',\n",
              "  'Maarsiya Seex Ibra Faal': 'https://jangwolof.com/2019/12/14/maarsiya-seex-ibra-faal/',\n",
              "  'Manatumaa jekki…': 'https://jangwolof.com/2019/12/16/manatmaa-jekki/',\n",
              "  'Muhaddamaatu Wolofal': 'https://jangwolof.com/2022/03/21/muhaddamaatu-wolofal/',\n",
              "  'Murit ngalla': 'https://jangwolof.com/2020/02/07/murit-ngalla/',\n",
              "  'Nattu': 'https://jangwolof.com/2022/03/18/nattu/',\n",
              "  'Njuuj-njaaj': 'https://jangwolof.com/2019/12/15/njuuj-njaaj/',\n",
              "  'Su ngeen…': 'https://jangwolof.com/2019/12/17/sungeen/',\n",
              "  'Sëriñ Fàllu': 'https://jangwolof.com/2020/01/28/serin-fallu/',\n",
              "  'Taxmiisu Wolof': 'https://jangwolof.com/2019/12/14/taxmiisu-wolof/',\n",
              "  'Waa ji Muusaa': 'https://jangwolof.com/2019/12/16/waa-ji-muusaa/',\n",
              "  'Xarnu bi': 'https://jangwolof.com/2019/12/16/xarnu-bi/',\n",
              "  'Yaasin': 'https://jangwolof.com/2019/12/18/yaasin/',\n",
              "  'Yërmande': 'https://jangwolof.com/2020/01/28/yermande/'},\n",
              " 'Sëñ Móodu  Njaay Rasiit': {'Waxi Sëñ Móodu Rasiit Njaay': 'https://jangwolof.com/2019/12/14/waxi-sen-moodu-rasiit-njaay/',\n",
              "  'Yaa ibna': 'https://jangwolof.com/2019/12/25/yaa-ibna/'},\n",
              " 'Sëñ Sàmba   Jaara Mbay': {'Jasbul majsóob': 'https://jangwolof.com/2019/12/13/jasbul-majsoob/',\n",
              "  'Ku faatu yaa fay…': 'https://jangwolof.com/2019/12/14/ku-faatu-yaa-fay/',\n",
              "  'Yaaram bi kenn bañu la': 'https://jangwolof.com/2019/12/21/yaaram-bi-kenn-banu-la/'},\n",
              " 'Sëñ Tuubaa': {'Sëñ Tuubaa (Xaaj 1)': 'https://jangwolof.com/2019/12/28/xaaj-1-5/'},\n",
              " 'Wayi cosaan': {'Jànjóoli': 'https://jangwolof.com/2019/12/13/janjooli/',\n",
              "  'Kuy laal Maademba': 'https://jangwolof.com/2019/12/13/kuy-laal-maademba/',\n",
              "  'Laay Laay': 'https://jangwolof.com/2019/12/13/laay-laay/',\n",
              "  'Wayu ndëpp': 'https://jangwolof.com/2020/01/16/wayu-ndepp/',\n",
              "  'Wayu semb': 'https://jangwolof.com/2020/01/12/wayu-semb/'},\n",
              " 'Yuusu Nduur': {'Sama doom war ci mbaam': 'https://jangwolof.com/2019/12/31/sama-doom-war-ci-mbaam/',\n",
              "  'Tongoo': 'https://jangwolof.com/2019/12/31/tongoo/'}}"
            ]
          },
          "metadata": {},
          "execution_count": 117
        }
      ]
    },
    {
      "cell_type": "code",
      "source": [
        "for i, j in zip(xabaar_yeup.keys(), xabaar_yeup.values()) :\n",
        "  for a, b in zip(j.keys(), j.values()):\n",
        "    #print(f\"/content/wolof/{i}/{a}.txt\")\n",
        "    myData = get_web_page(b)\n",
        "    infos = myData.find_all(\"div\", {\"class\":\"entry-content\"})\n",
        "    audios = myData.find(\"audio\") #[\"src\"]\n",
        "    if (audios is not None):\n",
        "      audio = audios['src']\n",
        "      #print(audio)\n",
        "    #!wget -O audio\n",
        "    for info in infos:\n",
        "      listes = info.findChildren('p', Recursive=False)\n",
        "      li = [listes[i].text for i in range(len(listes))]\n",
        "      txtfile = '\\n'.join(li)\n",
        "      #dir = f'/content/wolof/{i}/{a}'\n",
        "      #!mkdir $\"dir\"\n",
        "      #!wget -O \"/content/dir/text.mp3\" \"$audio\"\n",
        "      dir = f\"/content/wolof/{i}/{a}/\"\n",
        "      isExist = os.path.exists(dir)\n",
        "      if not isExist:\n",
        "        os.makedirs(dir)\n",
        "      #!mkdir \"${dir}\"\n",
        "      with open(f\"{dir}{a}.txt\", \"w\") as text_file:\n",
        "        text_file.write(txtfile)\n",
        "\n",
        "      r = requests.get(audio, allow_redirects=True)\n",
        "      open(f\"{dir}{a}.mp3\", \"wb\").write(r.content)"
      ],
      "metadata": {
        "id": "LG7uHPErqUdQ"
      },
      "execution_count": 118,
      "outputs": []
    },
    {
      "cell_type": "code",
      "source": [
        "!zip -r /content/wolof.zip /content/wolof"
      ],
      "metadata": {
        "colab": {
          "base_uri": "https://localhost:8080/"
        },
        "id": "sDfZlz14p_sK",
        "outputId": "1246f6b1-e0be-4115-b517-3b5941449d62"
      },
      "execution_count": null,
      "outputs": [
        {
          "output_type": "stream",
          "name": "stdout",
          "text": [
            "  adding: content/wolof/ (stored 0%)\n",
            "  adding: content/wolof/Sëñ Sàmba   Jaara Mbay/ (stored 0%)\n",
            "  adding: content/wolof/Sëñ Sàmba   Jaara Mbay/Jasbul majsóob/ (stored 0%)\n",
            "  adding: content/wolof/Sëñ Sàmba   Jaara Mbay/Jasbul majsóob/Jasbul majsóob.txt (deflated 60%)\n",
            "  adding: content/wolof/Sëñ Sàmba   Jaara Mbay/Jasbul majsóob/Jasbul majsóob.mp3 (deflated 4%)\n",
            "  adding: content/wolof/Sëñ Sàmba   Jaara Mbay/Yaaram bi kenn bañu la/ (stored 0%)\n",
            "  adding: content/wolof/Sëñ Sàmba   Jaara Mbay/Yaaram bi kenn bañu la/Yaaram bi kenn bañu la.txt (deflated 62%)\n",
            "  adding: content/wolof/Sëñ Sàmba   Jaara Mbay/Yaaram bi kenn bañu la/Yaaram bi kenn bañu la.mp3 (deflated 1%)\n",
            "  adding: content/wolof/Sëñ Sàmba   Jaara Mbay/Ku faatu yaa fay…/ (stored 0%)\n",
            "  adding: content/wolof/Sëñ Sàmba   Jaara Mbay/Ku faatu yaa fay…/Ku faatu yaa fay….mp3 (deflated 4%)\n",
            "  adding: content/wolof/Sëñ Sàmba   Jaara Mbay/Ku faatu yaa fay…/Ku faatu yaa fay….txt (deflated 54%)\n",
            "  adding: content/wolof/Njaga Mbay/ (stored 0%)\n",
            "  adding: content/wolof/Njaga Mbay/Saxaar gi/ (stored 0%)\n",
            "  adding: content/wolof/Njaga Mbay/Saxaar gi/Saxaar gi.mp3 (deflated 1%)\n",
            "  adding: content/wolof/Njaga Mbay/Saxaar gi/Saxaar gi.txt (deflated 49%)\n",
            "  adding: content/wolof/Sëñ Mbay Jaxate/ (stored 0%)\n",
            "  adding: content/wolof/Sëñ Mbay Jaxate/Sëñ Mbay Jaxate (Xaaj 1)/ (stored 0%)\n",
            "  adding: content/wolof/Sëñ Mbay Jaxate/Sëñ Mbay Jaxate (Xaaj 1)/Sëñ Mbay Jaxate (Xaaj 1).txt (deflated 58%)\n",
            "  adding: content/wolof/Sëñ Mbay Jaxate/Sëñ Mbay Jaxate (Xaaj 1)/Sëñ Mbay Jaxate (Xaaj 1).mp3 (deflated 8%)\n",
            "  adding: content/wolof/Sëñ Mbay Jaxate/Sëñ Mbay Jaxate (Xaaj 2)/ (stored 0%)\n",
            "  adding: content/wolof/Sëñ Mbay Jaxate/Sëñ Mbay Jaxate (Xaaj 2)/Sëñ Mbay Jaxate (Xaaj 2).txt (deflated 58%)\n",
            "  adding: content/wolof/Sëñ Mbay Jaxate/Sëñ Mbay Jaxate (Xaaj 2)/Sëñ Mbay Jaxate (Xaaj 2).mp3 (deflated 1%)\n",
            "  adding: content/wolof/Yuusu Nduur/ (stored 0%)\n",
            "  adding: content/wolof/Yuusu Nduur/Tongoo/ (stored 0%)\n",
            "  adding: content/wolof/Yuusu Nduur/Tongoo/Tongoo.txt (deflated 66%)\n",
            "  adding: content/wolof/Yuusu Nduur/Tongoo/Tongoo.mp3 (deflated 0%)\n",
            "  adding: content/wolof/Yuusu Nduur/Sama doom war ci mbaam/ (stored 0%)\n",
            "  adding: content/wolof/Yuusu Nduur/Sama doom war ci mbaam/Sama doom war ci mbaam.mp3 (deflated 1%)\n",
            "  adding: content/wolof/Yuusu Nduur/Sama doom war ci mbaam/Sama doom war ci mbaam.txt (deflated 56%)\n",
            "  adding: content/wolof/Sëñ Daam  Jaane/ (stored 0%)\n",
            "  adding: content/wolof/Sëñ Daam  Jaane/Guddi/ (stored 0%)\n",
            "  adding: content/wolof/Sëñ Daam  Jaane/Guddi/Guddi.mp3 (deflated 1%)\n",
            "  adding: content/wolof/Sëñ Daam  Jaane/Guddi/Guddi.txt (deflated 45%)\n",
            "  adding: content/wolof/Sëñ Daam  Jaane/Tagg Bàmba/ (stored 0%)\n",
            "  adding: content/wolof/Sëñ Daam  Jaane/Tagg Bàmba/Tagg Bàmba.txt (deflated 48%)\n",
            "  adding: content/wolof/Sëñ Daam  Jaane/Tagg Bàmba/Tagg Bàmba.mp3 (deflated 1%)\n",
            "  adding: content/wolof/Sëñ Daam  Jaane/Jooyi garab/ (stored 0%)\n",
            "  adding: content/wolof/Sëñ Daam  Jaane/Jooyi garab/Jooyi garab.txt (deflated 41%)\n",
            "  adding: content/wolof/Sëñ Daam  Jaane/Jooyi garab/Jooyi garab.mp3 (deflated 0%)\n",
            "  adding: content/wolof/Sëñ Daam  Jaane/Sñ Xaadim Géy/ (stored 0%)\n",
            "  adding: content/wolof/Sëñ Daam  Jaane/Sñ Xaadim Géy/Sñ Xaadim Géy.mp3 (deflated 1%)\n",
            "  adding: content/wolof/Sëñ Daam  Jaane/Sñ Xaadim Géy/Sñ Xaadim Géy.txt (deflated 44%)\n",
            "  adding: content/wolof/Sëñ Daam  Jaane/Tagg Sëriñ bi/ (stored 0%)\n",
            "  adding: content/wolof/Sëñ Daam  Jaane/Tagg Sëriñ bi/Tagg Sëriñ bi.txt (deflated 47%)\n",
            "  adding: content/wolof/Sëñ Daam  Jaane/Tagg Sëriñ bi/Tagg Sëriñ bi.mp3 (deflated 0%)\n",
            "  adding: content/wolof/Sëñ Daam  Jaane/Maarsiya Seex Abdu Asiis Dabbaax/ (stored 0%)\n",
            "  adding: content/wolof/Sëñ Daam  Jaane/Maarsiya Seex Abdu Asiis Dabbaax/Maarsiya Seex Abdu Asiis Dabbaax.mp3 (deflated 8%)\n",
            "  adding: content/wolof/Sëñ Daam  Jaane/Maarsiya Seex Abdu Asiis Dabbaax/Maarsiya Seex Abdu Asiis Dabbaax.txt (deflated 47%)\n",
            "  adding: content/wolof/Sëñ Daam  Jaane/Sant Yàlla/ (stored 0%)\n",
            "  adding: content/wolof/Sëñ Daam  Jaane/Sant Yàlla/Sant Yàlla.mp3 (deflated 1%)\n",
            "  adding: content/wolof/Sëñ Daam  Jaane/Sant Yàlla/Sant Yàlla.txt (deflated 62%)\n",
            "  adding: content/wolof/Sëñ Daam  Jaane/Njukkal Sñ Xaadim Géy/ (stored 0%)\n",
            "  adding: content/wolof/Sëñ Daam  Jaane/Njukkal Sñ Xaadim Géy/Njukkal Sñ Xaadim Géy.mp3 (deflated 1%)\n",
            "  adding: content/wolof/Sëñ Daam  Jaane/Njukkal Sñ Xaadim Géy/Njukkal Sñ Xaadim Géy.txt (deflated 46%)\n",
            "  adding: content/wolof/Sëñ Daam  Jaane/Jamonoy Asan Paate/ (stored 0%)\n",
            "  adding: content/wolof/Sëñ Daam  Jaane/Jamonoy Asan Paate/Jamonoy Asan Paate.mp3 (deflated 1%)\n",
            "  adding: content/wolof/Sëñ Daam  Jaane/Jamonoy Asan Paate/Jamonoy Asan Paate.txt (deflated 46%)\n",
            "  adding: content/wolof/Sëñ Moor Kayre/ (stored 0%)\n",
            "  adding: content/wolof/Sëñ Moor Kayre/Sëñ Moor Kayre (Xaaj 1)/ (stored 0%)\n",
            "  adding: content/wolof/Sëñ Moor Kayre/Sëñ Moor Kayre (Xaaj 1)/Sëñ Moor Kayre (Xaaj 1).mp3 (deflated 7%)\n",
            "  adding: content/wolof/Sëñ Moor Kayre/Sëñ Moor Kayre (Xaaj 1)/Sëñ Moor Kayre (Xaaj 1).txt (deflated 48%)\n",
            "  adding: content/wolof/Sëñ Moor Kayre/Saytaane, bànneex…/ (stored 0%)\n",
            "  adding: content/wolof/Sëñ Moor Kayre/Saytaane, bànneex…/Saytaane, bànneex….txt (deflated 49%)\n",
            "  adding: content/wolof/Sëñ Moor Kayre/Saytaane, bànneex…/Saytaane, bànneex….mp3 (deflated 1%)\n",
            "  adding: content/wolof/Sëñ Ahmadu Baas/ (stored 0%)\n",
            "  adding: content/wolof/Sëñ Ahmadu Baas/Ñalgul dañal/ (stored 0%)\n",
            "  adding: content/wolof/Sëñ Ahmadu Baas/Ñalgul dañal/Ñalgul dañal.txt (deflated 45%)\n",
            "  adding: content/wolof/Sëñ Ahmadu Baas/Ñalgul dañal/Ñalgul dañal.mp3 (deflated 4%)\n",
            "  adding: content/wolof/Sëñ Ahmadu Baas/Yewwuleen/ (stored 0%)\n",
            "  adding: content/wolof/Sëñ Ahmadu Baas/Yewwuleen/Yewwuleen.txt (deflated 43%)\n",
            "  adding: content/wolof/Sëñ Ahmadu Baas/Yewwuleen/Yewwuleen.mp3 (deflated 4%)\n",
            "  adding: content/wolof/Sëñ Ahmadu Baas/Dof yi/ (stored 0%)\n",
            "  adding: content/wolof/Sëñ Ahmadu Baas/Dof yi/Dof yi.txt (deflated 53%)\n",
            "  adding: content/wolof/Sëñ Ahmadu Baas/Dof yi/Dof yi.mp3 (deflated 1%)\n",
            "  adding: content/wolof/Sëñ Ahmadu Baas/Sutura yitteel na ku ne/ (stored 0%)\n",
            "  adding: content/wolof/Sëñ Ahmadu Baas/Sutura yitteel na ku ne/Sutura yitteel na ku ne.mp3 (deflated 1%)\n",
            "  adding: content/wolof/Sëñ Ahmadu Baas/Sutura yitteel na ku ne/Sutura yitteel na ku ne.txt (deflated 50%)\n",
            "  adding: content/wolof/Sëñ Ahmadu Baas/Afrig/ (stored 0%)\n",
            "  adding: content/wolof/Sëñ Ahmadu Baas/Afrig/Afrig.txt (deflated 49%)\n",
            "  adding: content/wolof/Sëñ Ahmadu Baas/Afrig/Afrig.mp3 (deflated 1%)\n",
            "  adding: content/wolof/Kumba Gawlo/ (stored 0%)\n",
            "  adding: content/wolof/Kumba Gawlo/Deppaas bu doy/ (stored 0%)\n",
            "  adding: content/wolof/Kumba Gawlo/Deppaas bu doy/Deppaas bu doy.mp3 (deflated 1%)\n",
            "  adding: content/wolof/Kumba Gawlo/Deppaas bu doy/Deppaas bu doy.txt (deflated 66%)\n",
            "  adding: content/wolof/Sëñ HaadiTure/ (stored 0%)\n",
            "  adding: content/wolof/Sëñ HaadiTure/Sñ Abdu Asiis/ (stored 0%)\n",
            "  adding: content/wolof/Sëñ HaadiTure/Sñ Abdu Asiis/Sñ Abdu Asiis.txt (stored 0%)\n",
            "  adding: content/wolof/Sëñ HaadiTure/Sñ Abdu Asiis/Sñ Abdu Asiis.mp3 (deflated 2%)\n",
            "  adding: content/wolof/Sëñ HaadiTure/Pitax mu ndaw/ (stored 0%)\n",
            "  adding: content/wolof/Sëñ HaadiTure/Pitax mu ndaw/Pitax mu ndaw.mp3 (deflated 2%)\n",
            "  adding: content/wolof/Sëñ HaadiTure/Pitax mu ndaw/Pitax mu ndaw.txt (deflated 49%)\n",
            "  adding: content/wolof/Wayi cosaan/ (stored 0%)\n",
            "  adding: content/wolof/Wayi cosaan/Wayu semb/ (stored 0%)\n",
            "  adding: content/wolof/Wayi cosaan/Wayu semb/Wayu semb.txt (deflated 57%)\n",
            "  adding: content/wolof/Wayi cosaan/Wayu semb/Wayu semb.mp3 (deflated 1%)\n",
            "  adding: content/wolof/Wayi cosaan/Kuy laal Maademba/ (stored 0%)\n",
            "  adding: content/wolof/Wayi cosaan/Kuy laal Maademba/Kuy laal Maademba.txt (deflated 44%)\n",
            "  adding: content/wolof/Wayi cosaan/Kuy laal Maademba/Kuy laal Maademba.mp3 (deflated 2%)\n",
            "  adding: content/wolof/Wayi cosaan/Laay Laay/ (stored 0%)\n",
            "  adding: content/wolof/Wayi cosaan/Laay Laay/Laay Laay.mp3 (deflated 3%)\n",
            "  adding: content/wolof/Wayi cosaan/Laay Laay/Laay Laay.txt (deflated 65%)\n",
            "  adding: content/wolof/Wayi cosaan/Wayu ndëpp/ (stored 0%)\n",
            "  adding: content/wolof/Wayi cosaan/Wayu ndëpp/Wayu ndëpp.txt (deflated 49%)\n",
            "  adding: content/wolof/Wayi cosaan/Wayu ndëpp/Wayu ndëpp.mp3 (deflated 1%)\n",
            "  adding: content/wolof/Wayi cosaan/Jànjóoli/ (stored 0%)\n",
            "  adding: content/wolof/Wayi cosaan/Jànjóoli/Jànjóoli.mp3 (deflated 2%)\n",
            "  adding: content/wolof/Wayi cosaan/Jànjóoli/Jànjóoli.txt (deflated 48%)\n",
            "  adding: content/wolof/Sëñ Móodu  Njaay Rasiit/ (stored 0%)\n",
            "  adding: content/wolof/Sëñ Móodu  Njaay Rasiit/Yaa ibna/ (stored 0%)\n",
            "  adding: content/wolof/Sëñ Móodu  Njaay Rasiit/Yaa ibna/Yaa ibna.mp3 (deflated 6%)\n",
            "  adding: content/wolof/Sëñ Móodu  Njaay Rasiit/Yaa ibna/Yaa ibna.txt (deflated 39%)\n",
            "  adding: content/wolof/Sëñ Móodu  Njaay Rasiit/Waxi Sëñ Móodu Rasiit Njaay/ (stored 0%)\n",
            "  adding: content/wolof/Sëñ Móodu  Njaay Rasiit/Waxi Sëñ Móodu Rasiit Njaay/Waxi Sëñ Móodu Rasiit Njaay.mp3 (deflated 6%)\n",
            "  adding: content/wolof/Sëñ Móodu  Njaay Rasiit/Waxi Sëñ Móodu Rasiit Njaay/Waxi Sëñ Móodu Rasiit Njaay.txt (deflated 31%)\n",
            "  adding: content/wolof/Sëñ MaamMoor Mbàkke/ (stored 0%)\n",
            "  adding: content/wolof/Sëñ MaamMoor Mbàkke/Loyu F, X,R, S, T, mottali gi/ (stored 0%)\n",
            "  adding: content/wolof/Sëñ MaamMoor Mbàkke/Loyu F, X,R, S, T, mottali gi/Loyu F, X,R, S, T, mottali gi.mp3 (deflated 8%)\n",
            "  adding: content/wolof/Sëñ MaamMoor Mbàkke/Loyu F, X,R, S, T, mottali gi/Loyu F, X,R, S, T, mottali gi.txt (deflated 53%)\n",
            "  adding: content/wolof/Sëñ MaamMoor Mbàkke/Loyu W, Y, K, L, M, N/ (stored 0%)\n",
            "  adding: content/wolof/Sëñ MaamMoor Mbàkke/Loyu W, Y, K, L, M, N/Loyu W, Y, K, L, M, N.mp3 (deflated 8%)\n",
            "  adding: content/wolof/Sëñ MaamMoor Mbàkke/Loyu W, Y, K, L, M, N/Loyu W, Y, K, L, M, N.txt (deflated 50%)\n",
            "  adding: content/wolof/Sëñ MaamMoor Mbàkke/Waati Wolof (a, b, j, d)/ (stored 0%)\n",
            "  adding: content/wolof/Sëñ MaamMoor Mbàkke/Waati Wolof (a, b, j, d)/Waati Wolof (a, b, j, d).txt (deflated 49%)\n",
            "  adding: content/wolof/Sëñ MaamMoor Mbàkke/Waati Wolof (a, b, j, d)/Waati Wolof (a, b, j, d).mp3 (deflated 7%)\n",
            "  adding: content/wolof/Sëñ FàlluMbàkke/ (stored 0%)\n",
            "  adding: content/wolof/Sëñ FàlluMbàkke/Sëñ Fàllu Mbàkke (Xaaj 1)/ (stored 0%)\n",
            "  adding: content/wolof/Sëñ FàlluMbàkke/Sëñ Fàllu Mbàkke (Xaaj 1)/Sëñ Fàllu Mbàkke (Xaaj 1).mp3 (deflated 7%)\n",
            "  adding: content/wolof/Sëñ FàlluMbàkke/Sëñ Fàllu Mbàkke (Xaaj 1)/Sëñ Fàllu Mbàkke (Xaaj 1).txt (deflated 48%)\n",
            "  adding: content/wolof/Seex Ibra Faal/ (stored 0%)\n",
            "  adding: content/wolof/Seex Ibra Faal/Seex Ibra Faal (Xaaj 1)/ (stored 0%)\n",
            "  adding: content/wolof/Seex Ibra Faal/Seex Ibra Faal (Xaaj 1)/Seex Ibra Faal (Xaaj 1).txt (deflated 51%)\n",
            "  adding: content/wolof/Seex Ibra Faal/Seex Ibra Faal (Xaaj 1)/Seex Ibra Faal (Xaaj 1).mp3 (deflated 8%)\n",
            "  adding: content/wolof/Sëñ Musaa Ka/ (stored 0%)\n",
            "  adding: content/wolof/Sëñ Musaa Ka/Waa ji Muusaa/ (stored 0%)\n",
            "  adding: content/wolof/Sëñ Musaa Ka/Waa ji Muusaa/Waa ji Muusaa.mp3 (deflated 1%)\n",
            "  adding: content/wolof/Sëñ Musaa Ka/Waa ji Muusaa/Waa ji Muusaa.txt (deflated 54%)\n",
            "  adding: content/wolof/Sëñ Musaa Ka/Maarsiya Seex Ibra Faal/ (stored 0%)\n",
            "  adding: content/wolof/Sëñ Musaa Ka/Maarsiya Seex Ibra Faal/Maarsiya Seex Ibra Faal.mp3 (deflated 9%)\n",
            "  adding: content/wolof/Sëñ Musaa Ka/Maarsiya Seex Ibra Faal/Maarsiya Seex Ibra Faal.txt (deflated 54%)\n",
            "  adding: content/wolof/Sëñ Musaa Ka/Ful/ (stored 0%)\n",
            "  adding: content/wolof/Sëñ Musaa Ka/Ful/Ful.mp3 (deflated 1%)\n",
            "  adding: content/wolof/Sëñ Musaa Ka/Ful/Ful.txt (deflated 59%)\n",
            "  adding: content/wolof/Sëñ Musaa Ka/Jooyi Wolof/ (stored 0%)\n",
            "  adding: content/wolof/Sëñ Musaa Ka/Jooyi Wolof/Jooyi Wolof.txt (deflated 57%)\n",
            "  adding: content/wolof/Sëñ Musaa Ka/Jooyi Wolof/Jooyi Wolof.mp3 (deflated 1%)\n",
            "  adding: content/wolof/Sëñ Musaa Ka/Ma yee fi gaa…/ (stored 0%)\n",
            "  adding: content/wolof/Sëñ Musaa Ka/Ma yee fi gaa…/Ma yee fi gaa….txt (deflated 48%)\n",
            "  adding: content/wolof/Sëñ Musaa Ka/Ma yee fi gaa…/Ma yee fi gaa….mp3 (deflated 1%)\n",
            "  adding: content/wolof/Sëñ Musaa Ka/Yërmande/ (stored 0%)\n",
            "  adding: content/wolof/Sëñ Musaa Ka/Yërmande/Yërmande.mp3 (deflated 1%)\n",
            "  adding: content/wolof/Sëñ Musaa Ka/Yërmande/Yërmande.txt (deflated 62%)\n",
            "  adding: content/wolof/Sëñ Musaa Ka/Njuuj-njaaj/ (stored 0%)\n",
            "  adding: content/wolof/Sëñ Musaa Ka/Njuuj-njaaj/Njuuj-njaaj.mp3 (deflated 1%)\n",
            "  adding: content/wolof/Sëñ Musaa Ka/Njuuj-njaaj/Njuuj-njaaj.txt (deflated 54%)\n",
            "  adding: content/wolof/Sëñ Musaa Ka/Murit ngalla/ (stored 0%)\n",
            "  adding: content/wolof/Sëñ Musaa Ka/Murit ngalla/Murit ngalla.txt (stored 0%)\n",
            "  adding: content/wolof/Sëñ Musaa Ka/Murit ngalla/Murit ngalla.mp3 (deflated 0%)\n",
            "  adding: content/wolof/Sëñ Musaa Ka/Yaasin/ (stored 0%)\n",
            "  adding: content/wolof/Sëñ Musaa Ka/Yaasin/Yaasin.txt (deflated 58%)\n",
            "  adding: content/wolof/Sëñ Musaa Ka/Yaasin/Yaasin.mp3 (deflated 1%)\n",
            "  adding: content/wolof/Sëñ Musaa Ka/Sëriñ Fàllu/ (stored 0%)\n",
            "  adding: content/wolof/Sëñ Musaa Ka/Sëriñ Fàllu/Sëriñ Fàllu.txt (deflated 5%)\n",
            "  adding: content/wolof/Sëñ Musaa Ka/Sëriñ Fàllu/Sëriñ Fàllu.mp3 (deflated 1%)\n",
            "  adding: content/wolof/Sëñ Musaa Ka/Jooyi xol/ (stored 0%)\n",
            "  adding: content/wolof/Sëñ Musaa Ka/Jooyi xol/Jooyi xol.mp3 (deflated 1%)\n",
            "  adding: content/wolof/Sëñ Musaa Ka/Jooyi xol/Jooyi xol.txt (deflated 53%)\n",
            "  adding: content/wolof/Sëñ Musaa Ka/Taxmiisu Wolof/ (stored 0%)\n",
            "  adding: content/wolof/Sëñ Musaa Ka/Taxmiisu Wolof/Taxmiisu Wolof.mp3 (deflated 1%)\n",
            "  adding: content/wolof/Sëñ Musaa Ka/Taxmiisu Wolof/Taxmiisu Wolof.txt (deflated 52%)\n",
            "  adding: content/wolof/Sëñ Musaa Ka/Boroomam/ (stored 0%)\n",
            "  adding: content/wolof/Sëñ Musaa Ka/Boroomam/Boroomam.txt (deflated 57%)\n",
            "  adding: content/wolof/Sëñ Musaa Ka/Boroomam/Boroomam.mp3 (deflated 1%)\n",
            "  adding: content/wolof/Sëñ Musaa Ka/Nattu/ (stored 0%)\n",
            "  adding: content/wolof/Sëñ Musaa Ka/Nattu/Nattu.mp3 (deflated 1%)\n",
            "  adding: content/wolof/Sëñ Musaa Ka/Nattu/Nattu.txt (deflated 54%)\n",
            "  adding: content/wolof/Sëñ Musaa Ka/Manatumaa jekki…/ (stored 0%)\n",
            "  adding: content/wolof/Sëñ Musaa Ka/Manatumaa jekki…/Manatumaa jekki….mp3 (deflated 1%)\n",
            "  adding: content/wolof/Sëñ Musaa Ka/Manatumaa jekki…/Manatumaa jekki….txt (deflated 57%)\n",
            "  adding: content/wolof/Sëñ Musaa Ka/Muhaddamaatu Wolofal/ (stored 0%)\n",
            "  adding: content/wolof/Sëñ Musaa Ka/Muhaddamaatu Wolofal/Muhaddamaatu Wolofal.txt (deflated 57%)\n",
            "  adding: content/wolof/Sëñ Musaa Ka/Muhaddamaatu Wolofal/Muhaddamaatu Wolofal.mp3 (deflated 4%)\n",
            "  adding: content/wolof/Sëñ Musaa Ka/Su ngeen…/ (stored 0%)\n",
            "  adding: content/wolof/Sëñ Musaa Ka/Su ngeen…/Su ngeen….txt (deflated 54%)\n",
            "  adding: content/wolof/Sëñ Musaa Ka/Su ngeen…/Su ngeen….mp3 (deflated 1%)\n",
            "  adding: content/wolof/Sëñ Musaa Ka/Xarnu bi/ (stored 0%)\n",
            "  adding: content/wolof/Sëñ Musaa Ka/Xarnu bi/Xarnu bi.mp3 (deflated 1%)\n",
            "  adding: content/wolof/Sëñ Musaa Ka/Xarnu bi/Xarnu bi.txt (deflated 59%)\n",
            "  adding: content/wolof/Sëñ Tuubaa/ (stored 0%)\n",
            "  adding: content/wolof/Sëñ Tuubaa/Sëñ Tuubaa (Xaaj 1)/ (stored 0%)\n",
            "  adding: content/wolof/Sëñ Tuubaa/Sëñ Tuubaa (Xaaj 1)/Sëñ Tuubaa (Xaaj 1).txt (deflated 56%)\n",
            "  adding: content/wolof/Sëñ Tuubaa/Sëñ Tuubaa (Xaaj 1)/Sëñ Tuubaa (Xaaj 1).mp3 (deflated 7%)\n"
          ]
        }
      ]
    },
    {
      "cell_type": "code",
      "source": [
        ""
      ],
      "metadata": {
        "id": "A9IoKL4XvxV5"
      },
      "execution_count": null,
      "outputs": []
    }
  ]
}